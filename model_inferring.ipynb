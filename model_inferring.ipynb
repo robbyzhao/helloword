{
 "cells": [
  {
   "cell_type": "code",
   "execution_count": 4,
   "id": "667849ce",
   "metadata": {
    "collapsed": true
   },
   "outputs": [
    {
     "name": "stdout",
     "output_type": "stream",
     "text": [
      "(10000,)\n",
      "random index: [2624]\n"
     ]
    },
    {
     "data": {
      "image/png": "[encoded data removed]",
      "text/plain": [
       "<Figure size 100x100 with 1 Axes>"
      ]
     },
     "metadata": {},
     "output_type": "display_data"
    },
    {
     "name": "stdout",
     "output_type": "stream",
     "text": [
      "origin image with label: [3], predict value: [3]\n"
     ]
    }
   ],
   "source": [
    "# coding: utf-8\n",
    "\n",
    "import pickle\n",
    "from two_layer_net import TwoLayerNet\n",
    "from dataset.mnist import load_mnist, img_show\n",
    "import numpy as np\n",
    "\n",
    "params = {}\n",
    "with open('model_params.pkl', 'rb') as f:\n",
    "   params = pickle.load(f)\n",
    "   #print(pa)\n",
    "\n",
    "model = TwoLayerNet(input_size=784, hidden_size=50, output_size=10)\n",
    "model.params = params\n",
    "\n",
    "(_, _),(x_test,t_test) = load_mnist(flatten=True, normalize=False)\n",
    "nums = x_test.shape[0]\n",
    "\n",
    "idx = np.random.choice(nums, size=1)\n",
    "print(t_test.shape)\n",
    "print(f'random index: {idx}')\n",
    "\n",
    "img_show(x_test[idx].reshape(28, 28))\n",
    "\n",
    "out = model.predict(x_test[idx])\n",
    "out = np.argmax(out,axis=1)\n",
    "print(f'origin image with label: {t_test[idx]}, predict value: {out}')\n",
    "\n",
    "\n"
   ]
  }
 ],
 "metadata": {
  "kernelspec": {
   "display_name": "Python 3 (ipykernel)",
   "language": "python",
   "name": "python3"
  },
  "language_info": {
   "codemirror_mode": {
    "name": "ipython",
    "version": 3
   },
   "file_extension": ".py",
   "mimetype": "text/x-python",
   "name": "python",
   "nbconvert_exporter": "python",
   "pygments_lexer": "ipython3",
   "version": "3.11.5"
  }
 },
 "nbformat": 4,
 "nbformat_minor": 5
}
